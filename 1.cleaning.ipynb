{
 "cells": [
  {
   "cell_type": "markdown",
   "metadata": {},
   "source": [
    "<p style=\"text-align: center; font-size:20px\">Case Stone Payments\n",
    "<p style=\"text-align: center; font-size:15px\">Customer Relationship Management (CRM) Analytics\n",
    "<hr />"
   ]
  },
  {
   "cell_type": "markdown",
   "metadata": {},
   "source": [
    "# Cleaning and Features Extracting"
   ]
  },
  {
   "cell_type": "code",
   "execution_count": 1,
   "metadata": {},
   "outputs": [],
   "source": [
    "import pandas as pd\n",
    "import numpy as np"
   ]
  },
  {
   "cell_type": "code",
   "execution_count": 2,
   "metadata": {},
   "outputs": [],
   "source": [
    "# Loading df's\n",
    "creds = pd.read_csv(\"creds.csv\")\n",
    "cases = pd.read_csv(\"cases.csv\")"
   ]
  },
  {
   "cell_type": "markdown",
   "metadata": {},
   "source": [
    "<hr/>\n",
    "\n",
    "# > First glance"
   ]
  },
  {
   "cell_type": "markdown",
   "metadata": {},
   "source": [
    "### creds.csv"
   ]
  },
  {
   "cell_type": "markdown",
   "metadata": {},
   "source": [
    "| Coluna                  | Descrição     |\n",
    "|:----------------------- |-------------|\n",
    "|cred_date                |Accreditation date|\n",
    "|shipping_address_city    |Delivery address – city|\n",
    "|shipping_address_state   |Delivery address - state|\n",
    "|max_machine              |Purchased product|\n",
    "|accountid                |Table secondary key|"
   ]
  },
  {
   "cell_type": "code",
   "execution_count": 3,
   "metadata": {},
   "outputs": [
    {
     "data": {
      "text/html": [
       "<div>\n",
       "<style scoped>\n",
       "    .dataframe tbody tr th:only-of-type {\n",
       "        vertical-align: middle;\n",
       "    }\n",
       "\n",
       "    .dataframe tbody tr th {\n",
       "        vertical-align: top;\n",
       "    }\n",
       "\n",
       "    .dataframe thead th {\n",
       "        text-align: right;\n",
       "    }\n",
       "</style>\n",
       "<table border=\"1\" class=\"dataframe\">\n",
       "  <thead>\n",
       "    <tr style=\"text-align: right;\">\n",
       "      <th></th>\n",
       "      <th>Unnamed: 0</th>\n",
       "      <th>cred_date</th>\n",
       "      <th>shipping_address_city</th>\n",
       "      <th>shipping_address_state</th>\n",
       "      <th>max_machine</th>\n",
       "      <th>accountid</th>\n",
       "    </tr>\n",
       "  </thead>\n",
       "  <tbody>\n",
       "    <tr>\n",
       "      <th>0</th>\n",
       "      <td>0</td>\n",
       "      <td>2020-04-18</td>\n",
       "      <td>Feira de Santana</td>\n",
       "      <td>BA</td>\n",
       "      <td>T1</td>\n",
       "      <td>NaN</td>\n",
       "    </tr>\n",
       "    <tr>\n",
       "      <th>1</th>\n",
       "      <td>1</td>\n",
       "      <td>2020-10-16</td>\n",
       "      <td>Bacuri</td>\n",
       "      <td>MA</td>\n",
       "      <td>T1</td>\n",
       "      <td>NaN</td>\n",
       "    </tr>\n",
       "    <tr>\n",
       "      <th>2</th>\n",
       "      <td>2</td>\n",
       "      <td>2020-09-01</td>\n",
       "      <td>Bernardo Sayão</td>\n",
       "      <td>TO</td>\n",
       "      <td>T1</td>\n",
       "      <td>NaN</td>\n",
       "    </tr>\n",
       "    <tr>\n",
       "      <th>3</th>\n",
       "      <td>3</td>\n",
       "      <td>2020-08-29</td>\n",
       "      <td>Rio de Janeiro</td>\n",
       "      <td>RJ</td>\n",
       "      <td>T3</td>\n",
       "      <td>NaN</td>\n",
       "    </tr>\n",
       "    <tr>\n",
       "      <th>4</th>\n",
       "      <td>4</td>\n",
       "      <td>2020-07-28</td>\n",
       "      <td>São Gonçalo</td>\n",
       "      <td>RJ</td>\n",
       "      <td>T3</td>\n",
       "      <td>0013j00002z0CeEAAU</td>\n",
       "    </tr>\n",
       "  </tbody>\n",
       "</table>\n",
       "</div>"
      ],
      "text/plain": [
       "   Unnamed: 0   cred_date shipping_address_city shipping_address_state  \\\n",
       "0           0  2020-04-18      Feira de Santana                     BA   \n",
       "1           1  2020-10-16                Bacuri                     MA   \n",
       "2           2  2020-09-01        Bernardo Sayão                     TO   \n",
       "3           3  2020-08-29        Rio de Janeiro                     RJ   \n",
       "4           4  2020-07-28           São Gonçalo                     RJ   \n",
       "\n",
       "  max_machine           accountid  \n",
       "0          T1                 NaN  \n",
       "1          T1                 NaN  \n",
       "2          T1                 NaN  \n",
       "3          T3                 NaN  \n",
       "4          T3  0013j00002z0CeEAAU  "
      ]
     },
     "execution_count": 3,
     "metadata": {},
     "output_type": "execute_result"
    }
   ],
   "source": [
    "creds.head()"
   ]
  },
  {
   "cell_type": "code",
   "execution_count": 4,
   "metadata": {},
   "outputs": [
    {
     "name": "stdout",
     "output_type": "stream",
     "text": [
      "<class 'pandas.core.frame.DataFrame'>\n",
      "RangeIndex: 126989 entries, 0 to 126988\n",
      "Data columns (total 6 columns):\n",
      " #   Column                  Non-Null Count   Dtype \n",
      "---  ------                  --------------   ----- \n",
      " 0   Unnamed: 0              126989 non-null  int64 \n",
      " 1   cred_date               126989 non-null  object\n",
      " 2   shipping_address_city   126989 non-null  object\n",
      " 3   shipping_address_state  126989 non-null  object\n",
      " 4   max_machine             126989 non-null  object\n",
      " 5   accountid               77489 non-null   object\n",
      "dtypes: int64(1), object(5)\n",
      "memory usage: 5.8+ MB\n"
     ]
    }
   ],
   "source": [
    "# to understand general dataframe information\n",
    "creds.info()"
   ]
  },
  {
   "cell_type": "code",
   "execution_count": 5,
   "metadata": {},
   "outputs": [
    {
     "data": {
      "text/plain": [
       "array(['T1', 'T3', 'T2', 'NONE'], dtype=object)"
      ]
     },
     "execution_count": 5,
     "metadata": {},
     "output_type": "execute_result"
    }
   ],
   "source": [
    "# Check for unique values of columns that appear to be categorical\n",
    "pd.unique(creds[['max_machine']].values.ravel('K'))"
   ]
  },
  {
   "cell_type": "markdown",
   "metadata": {},
   "source": [
    "### Notes for treatment\n",
    "- Missing values (only in *accountid* column)\n",
    "- Convert datatype from *cred_date* to datetime64\n",
    "- Remove Unnamed column (Reason: it's the same as index *and doesn't let you know if there is duplicate data*)\n",
    "- Remove duplicate lines, if any, leaving only the first occurrence"
   ]
  },
  {
   "cell_type": "markdown",
   "metadata": {},
   "source": [
    "<hr/>\n",
    "\n",
    "## cases.csv"
   ]
  },
  {
   "cell_type": "markdown",
   "metadata": {},
   "source": [
    "| Coluna                  | Descrição     |\n",
    "|:----------------------- |-------------|\n",
    "|accountid                |Table primary key|\n",
    "|date_ref                 |Call date|\n",
    "|channelid                |Call channel (chat = 1; phone = 2; email = 3)|\n",
    "|waitingtime              |Waiting time for service (seconds)|\n",
    "|missed                   |Answered Call flag|\n",
    "|pesquisa_de_satisfa_o__c |Satisfaction Survey Completed flag|\n",
    "|assunto                  |Call subject|\n",
    "|id                       |Table key|"
   ]
  },
  {
   "cell_type": "code",
   "execution_count": 6,
   "metadata": {},
   "outputs": [
    {
     "data": {
      "text/html": [
       "<div>\n",
       "<style scoped>\n",
       "    .dataframe tbody tr th:only-of-type {\n",
       "        vertical-align: middle;\n",
       "    }\n",
       "\n",
       "    .dataframe tbody tr th {\n",
       "        vertical-align: top;\n",
       "    }\n",
       "\n",
       "    .dataframe thead th {\n",
       "        text-align: right;\n",
       "    }\n",
       "</style>\n",
       "<table border=\"1\" class=\"dataframe\">\n",
       "  <thead>\n",
       "    <tr style=\"text-align: right;\">\n",
       "      <th></th>\n",
       "      <th>Unnamed: 0</th>\n",
       "      <th>accountid</th>\n",
       "      <th>date_ref</th>\n",
       "      <th>channelid</th>\n",
       "      <th>waitingtime</th>\n",
       "      <th>missed</th>\n",
       "      <th>pesquisa_de_satisfa_o__c</th>\n",
       "      <th>assunto</th>\n",
       "      <th>Id</th>\n",
       "    </tr>\n",
       "  </thead>\n",
       "  <tbody>\n",
       "    <tr>\n",
       "      <th>0</th>\n",
       "      <td>0</td>\n",
       "      <td>NaN</td>\n",
       "      <td>NaN</td>\n",
       "      <td>NaN</td>\n",
       "      <td>NaN</td>\n",
       "      <td>NaN</td>\n",
       "      <td>NaN</td>\n",
       "      <td>NaN</td>\n",
       "      <td>NaN</td>\n",
       "    </tr>\n",
       "    <tr>\n",
       "      <th>1</th>\n",
       "      <td>1</td>\n",
       "      <td>NaN</td>\n",
       "      <td>NaN</td>\n",
       "      <td>NaN</td>\n",
       "      <td>NaN</td>\n",
       "      <td>NaN</td>\n",
       "      <td>NaN</td>\n",
       "      <td>NaN</td>\n",
       "      <td>NaN</td>\n",
       "    </tr>\n",
       "    <tr>\n",
       "      <th>2</th>\n",
       "      <td>2</td>\n",
       "      <td>NaN</td>\n",
       "      <td>NaN</td>\n",
       "      <td>NaN</td>\n",
       "      <td>NaN</td>\n",
       "      <td>NaN</td>\n",
       "      <td>NaN</td>\n",
       "      <td>NaN</td>\n",
       "      <td>NaN</td>\n",
       "    </tr>\n",
       "    <tr>\n",
       "      <th>3</th>\n",
       "      <td>3</td>\n",
       "      <td>NaN</td>\n",
       "      <td>NaN</td>\n",
       "      <td>NaN</td>\n",
       "      <td>NaN</td>\n",
       "      <td>NaN</td>\n",
       "      <td>NaN</td>\n",
       "      <td>NaN</td>\n",
       "      <td>NaN</td>\n",
       "    </tr>\n",
       "    <tr>\n",
       "      <th>4</th>\n",
       "      <td>4</td>\n",
       "      <td>0013j00002z0CeEAAU</td>\n",
       "      <td>2020-07-31</td>\n",
       "      <td>2.0</td>\n",
       "      <td>15.0</td>\n",
       "      <td>False</td>\n",
       "      <td>NaN</td>\n",
       "      <td>Aplicativo:Dúvidas funcionalidades App:Primeir...</td>\n",
       "      <td>0013j00002z0CeEAAU</td>\n",
       "    </tr>\n",
       "  </tbody>\n",
       "</table>\n",
       "</div>"
      ],
      "text/plain": [
       "   Unnamed: 0           accountid    date_ref  channelid  waitingtime missed  \\\n",
       "0           0                 NaN         NaN        NaN          NaN    NaN   \n",
       "1           1                 NaN         NaN        NaN          NaN    NaN   \n",
       "2           2                 NaN         NaN        NaN          NaN    NaN   \n",
       "3           3                 NaN         NaN        NaN          NaN    NaN   \n",
       "4           4  0013j00002z0CeEAAU  2020-07-31        2.0         15.0  False   \n",
       "\n",
       "  pesquisa_de_satisfa_o__c                                            assunto  \\\n",
       "0                      NaN                                                NaN   \n",
       "1                      NaN                                                NaN   \n",
       "2                      NaN                                                NaN   \n",
       "3                      NaN                                                NaN   \n",
       "4                      NaN  Aplicativo:Dúvidas funcionalidades App:Primeir...   \n",
       "\n",
       "                   Id  \n",
       "0                 NaN  \n",
       "1                 NaN  \n",
       "2                 NaN  \n",
       "3                 NaN  \n",
       "4  0013j00002z0CeEAAU  "
      ]
     },
     "execution_count": 6,
     "metadata": {},
     "output_type": "execute_result"
    }
   ],
   "source": [
    "cases.head()"
   ]
  },
  {
   "cell_type": "code",
   "execution_count": 7,
   "metadata": {},
   "outputs": [
    {
     "name": "stdout",
     "output_type": "stream",
     "text": [
      "<class 'pandas.core.frame.DataFrame'>\n",
      "RangeIndex: 126989 entries, 0 to 126988\n",
      "Data columns (total 9 columns):\n",
      " #   Column                    Non-Null Count   Dtype  \n",
      "---  ------                    --------------   -----  \n",
      " 0   Unnamed: 0                126989 non-null  int64  \n",
      " 1   accountid                 77489 non-null   object \n",
      " 2   date_ref                  77489 non-null   object \n",
      " 3   channelid                 77489 non-null   float64\n",
      " 4   waitingtime               77489 non-null   float64\n",
      " 5   missed                    77489 non-null   object \n",
      " 6   pesquisa_de_satisfa_o__c  11585 non-null   object \n",
      " 7   assunto                   77489 non-null   object \n",
      " 8   Id                        77489 non-null   object \n",
      "dtypes: float64(2), int64(1), object(6)\n",
      "memory usage: 8.7+ MB\n"
     ]
    }
   ],
   "source": [
    "# To understand general dataframe information\n",
    "cases.info()"
   ]
  },
  {
   "cell_type": "code",
   "execution_count": 8,
   "metadata": {},
   "outputs": [
    {
     "data": {
      "text/plain": [
       "array([nan, 2.0, False, True, 'Enviado', 'Incrivel', 'Normal', 'Bom',\n",
       "       'NaoResolveu', 'Triste', 'Cansativo', 'MalAtendido', 'Feliz',\n",
       "       'Pessimo'], dtype=object)"
      ]
     },
     "execution_count": 8,
     "metadata": {},
     "output_type": "execute_result"
    }
   ],
   "source": [
    "# Check for unique values of columns that appear to be categorical\n",
    "pd.unique(cases[['channelid', 'missed', 'pesquisa_de_satisfa_o__c']].values.ravel('K'))"
   ]
  },
  {
   "cell_type": "markdown",
   "metadata": {},
   "source": [
    "### Notes for treatment\n",
    "- There are lines where there are no values in all columns (NaN)\n",
    "- There are lines in which there are missing values only in the column *pesquisa_de_satisfac_o__c*\n",
    "- Convert *date_ref* datatype to datetime64\n",
    "- Convert the datatype from *pesquisa_de_satisfac_o__c* to a categorical variable, if you apply ML\n",
    "- Remove *Unnamed* column (same as index *and does not let you know if there is duplicate data*)\n",
    "- Remove *Id* column (same value as accountid)\n",
    "- Remove *channelid* column -> There is only 1 value: \"2\" (phone)\n",
    "- Remove duplicate lines, if any, leaving only the first occurrence\n",
    "- Modify the column title *pesquisa_de_satisfa_o__c*, to facilitate analysis"
   ]
  },
  {
   "cell_type": "markdown",
   "metadata": {},
   "source": [
    "QUESTION:\n",
    "- Are all _date_ref_ later than _cred_date_?"
   ]
  },
  {
   "cell_type": "markdown",
   "metadata": {},
   "source": [
    "<hr/>\n",
    "\n",
    "# > Cleaning"
   ]
  },
  {
   "cell_type": "markdown",
   "metadata": {},
   "source": [
    "### Creds"
   ]
  },
  {
   "cell_type": "code",
   "execution_count": 9,
   "metadata": {},
   "outputs": [],
   "source": [
    "# Remove missing values (only in *accountid* column)\n",
    "creds = creds.dropna(how='any',axis=0)"
   ]
  },
  {
   "cell_type": "code",
   "execution_count": 10,
   "metadata": {},
   "outputs": [],
   "source": [
    "# Remove *Unnamed* column (Reason: same as index and does not let you know if there is duplicate data)\n",
    "creds.drop(['Unnamed: 0'], axis=1, inplace=True)"
   ]
  },
  {
   "cell_type": "markdown",
   "metadata": {},
   "source": [
    "The decision to remove rows where there are no *accountid* values comes from the fact that the case questions don't use the other columns as variables at all. If there was a need to correlate *cred_date* with *max_machine*, for example, I would choose to keep the lines with *accountid* blank. However, the main value will be taken from the join of the two dataframes through *accountid*"
   ]
  },
  {
   "cell_type": "code",
   "execution_count": 11,
   "metadata": {},
   "outputs": [],
   "source": [
    "# Convert *cred_date* datatype to datetime64\n",
    "creds.cred_date = pd.to_datetime(creds.cred_date)"
   ]
  },
  {
   "cell_type": "code",
   "execution_count": 12,
   "metadata": {},
   "outputs": [
    {
     "data": {
      "text/html": [
       "<div>\n",
       "<style scoped>\n",
       "    .dataframe tbody tr th:only-of-type {\n",
       "        vertical-align: middle;\n",
       "    }\n",
       "\n",
       "    .dataframe tbody tr th {\n",
       "        vertical-align: top;\n",
       "    }\n",
       "\n",
       "    .dataframe thead th {\n",
       "        text-align: right;\n",
       "    }\n",
       "</style>\n",
       "<table border=\"1\" class=\"dataframe\">\n",
       "  <thead>\n",
       "    <tr style=\"text-align: right;\">\n",
       "      <th></th>\n",
       "      <th>cred_date</th>\n",
       "      <th>shipping_address_city</th>\n",
       "      <th>shipping_address_state</th>\n",
       "      <th>max_machine</th>\n",
       "      <th>accountid</th>\n",
       "    </tr>\n",
       "  </thead>\n",
       "  <tbody>\n",
       "    <tr>\n",
       "      <th>5</th>\n",
       "      <td>2020-07-28</td>\n",
       "      <td>São Gonçalo</td>\n",
       "      <td>RJ</td>\n",
       "      <td>T3</td>\n",
       "      <td>0013j00002z0CeEAAU</td>\n",
       "    </tr>\n",
       "    <tr>\n",
       "      <th>6</th>\n",
       "      <td>2020-07-28</td>\n",
       "      <td>São Gonçalo</td>\n",
       "      <td>RJ</td>\n",
       "      <td>T3</td>\n",
       "      <td>0013j00002z0CeEAAU</td>\n",
       "    </tr>\n",
       "    <tr>\n",
       "      <th>8</th>\n",
       "      <td>2020-08-28</td>\n",
       "      <td>Itaboraí</td>\n",
       "      <td>RJ</td>\n",
       "      <td>T1</td>\n",
       "      <td>0013j00002zQgldAAC</td>\n",
       "    </tr>\n",
       "    <tr>\n",
       "      <th>9</th>\n",
       "      <td>2020-08-28</td>\n",
       "      <td>Itaboraí</td>\n",
       "      <td>RJ</td>\n",
       "      <td>T1</td>\n",
       "      <td>0013j00002zQgldAAC</td>\n",
       "    </tr>\n",
       "    <tr>\n",
       "      <th>10</th>\n",
       "      <td>2020-08-28</td>\n",
       "      <td>Itaboraí</td>\n",
       "      <td>RJ</td>\n",
       "      <td>T1</td>\n",
       "      <td>0013j00002zQgldAAC</td>\n",
       "    </tr>\n",
       "  </tbody>\n",
       "</table>\n",
       "</div>"
      ],
      "text/plain": [
       "    cred_date shipping_address_city shipping_address_state max_machine  \\\n",
       "5  2020-07-28           São Gonçalo                     RJ          T3   \n",
       "6  2020-07-28           São Gonçalo                     RJ          T3   \n",
       "8  2020-08-28              Itaboraí                     RJ          T1   \n",
       "9  2020-08-28              Itaboraí                     RJ          T1   \n",
       "10 2020-08-28              Itaboraí                     RJ          T1   \n",
       "\n",
       "             accountid  \n",
       "5   0013j00002z0CeEAAU  \n",
       "6   0013j00002z0CeEAAU  \n",
       "8   0013j00002zQgldAAC  \n",
       "9   0013j00002zQgldAAC  \n",
       "10  0013j00002zQgldAAC  "
      ]
     },
     "execution_count": 12,
     "metadata": {},
     "output_type": "execute_result"
    }
   ],
   "source": [
    "# Check for duplicate cases\n",
    "# It is only possible to check after deleting the *Unnamed* column, which artificially differentiates occurrences\n",
    "creds_duplicate = creds[creds.duplicated(keep='first')]\n",
    "creds_duplicate.head()"
   ]
  },
  {
   "cell_type": "markdown",
   "metadata": {},
   "source": [
    "**Há 46060 casos duplicados**"
   ]
  },
  {
   "cell_type": "code",
   "execution_count": 13,
   "metadata": {},
   "outputs": [],
   "source": [
    "# Remove duplicate lines but keep the first occurrence\n",
    "creds = creds.drop_duplicates(keep='first')"
   ]
  },
  {
   "cell_type": "code",
   "execution_count": 14,
   "metadata": {},
   "outputs": [
    {
     "name": "stdout",
     "output_type": "stream",
     "text": [
      "<class 'pandas.core.frame.DataFrame'>\n",
      "Int64Index: 31429 entries, 4 to 126982\n",
      "Data columns (total 5 columns):\n",
      " #   Column                  Non-Null Count  Dtype         \n",
      "---  ------                  --------------  -----         \n",
      " 0   cred_date               31429 non-null  datetime64[ns]\n",
      " 1   shipping_address_city   31429 non-null  object        \n",
      " 2   shipping_address_state  31429 non-null  object        \n",
      " 3   max_machine             31429 non-null  object        \n",
      " 4   accountid               31429 non-null  object        \n",
      "dtypes: datetime64[ns](1), object(4)\n",
      "memory usage: 1.4+ MB\n"
     ]
    }
   ],
   "source": [
    "creds.info()"
   ]
  },
  {
   "cell_type": "code",
   "execution_count": 15,
   "metadata": {},
   "outputs": [
    {
     "data": {
      "text/html": [
       "<div>\n",
       "<style scoped>\n",
       "    .dataframe tbody tr th:only-of-type {\n",
       "        vertical-align: middle;\n",
       "    }\n",
       "\n",
       "    .dataframe tbody tr th {\n",
       "        vertical-align: top;\n",
       "    }\n",
       "\n",
       "    .dataframe thead th {\n",
       "        text-align: right;\n",
       "    }\n",
       "</style>\n",
       "<table border=\"1\" class=\"dataframe\">\n",
       "  <thead>\n",
       "    <tr style=\"text-align: right;\">\n",
       "      <th></th>\n",
       "      <th>cred_date</th>\n",
       "      <th>shipping_address_city</th>\n",
       "      <th>shipping_address_state</th>\n",
       "      <th>max_machine</th>\n",
       "      <th>accountid</th>\n",
       "    </tr>\n",
       "  </thead>\n",
       "  <tbody>\n",
       "    <tr>\n",
       "      <th>4</th>\n",
       "      <td>2020-07-28</td>\n",
       "      <td>São Gonçalo</td>\n",
       "      <td>RJ</td>\n",
       "      <td>T3</td>\n",
       "      <td>0013j00002z0CeEAAU</td>\n",
       "    </tr>\n",
       "    <tr>\n",
       "      <th>7</th>\n",
       "      <td>2020-08-28</td>\n",
       "      <td>Itaboraí</td>\n",
       "      <td>RJ</td>\n",
       "      <td>T1</td>\n",
       "      <td>0013j00002zQgldAAC</td>\n",
       "    </tr>\n",
       "    <tr>\n",
       "      <th>15</th>\n",
       "      <td>2020-10-02</td>\n",
       "      <td>Joinville</td>\n",
       "      <td>SC</td>\n",
       "      <td>T1</td>\n",
       "      <td>0013j0000304oN9AAI</td>\n",
       "    </tr>\n",
       "    <tr>\n",
       "      <th>23</th>\n",
       "      <td>2020-07-24</td>\n",
       "      <td>São João de Meriti</td>\n",
       "      <td>RJ</td>\n",
       "      <td>T2</td>\n",
       "      <td>0013j00002yzpxZAAQ</td>\n",
       "    </tr>\n",
       "    <tr>\n",
       "      <th>25</th>\n",
       "      <td>2020-07-29</td>\n",
       "      <td>Nortelândia</td>\n",
       "      <td>MT</td>\n",
       "      <td>T1</td>\n",
       "      <td>0013j00002z0RA5AAM</td>\n",
       "    </tr>\n",
       "  </tbody>\n",
       "</table>\n",
       "</div>"
      ],
      "text/plain": [
       "    cred_date shipping_address_city shipping_address_state max_machine  \\\n",
       "4  2020-07-28           São Gonçalo                     RJ          T3   \n",
       "7  2020-08-28              Itaboraí                     RJ          T1   \n",
       "15 2020-10-02             Joinville                     SC          T1   \n",
       "23 2020-07-24    São João de Meriti                     RJ          T2   \n",
       "25 2020-07-29           Nortelândia                     MT          T1   \n",
       "\n",
       "             accountid  \n",
       "4   0013j00002z0CeEAAU  \n",
       "7   0013j00002zQgldAAC  \n",
       "15  0013j0000304oN9AAI  \n",
       "23  0013j00002yzpxZAAQ  \n",
       "25  0013j00002z0RA5AAM  "
      ]
     },
     "execution_count": 15,
     "metadata": {},
     "output_type": "execute_result"
    }
   ],
   "source": [
    "creds.head()"
   ]
  },
  {
   "cell_type": "markdown",
   "metadata": {},
   "source": [
    "### Cases"
   ]
  },
  {
   "cell_type": "code",
   "execution_count": 16,
   "metadata": {},
   "outputs": [],
   "source": [
    "# Remove 'Unnamed', 'Id' and 'channelid' column\n",
    "cases.drop(['Unnamed: 0', 'Id', 'channelid'], axis=1, inplace=True)"
   ]
  },
  {
   "cell_type": "code",
   "execution_count": 17,
   "metadata": {},
   "outputs": [
    {
     "name": "stdout",
     "output_type": "stream",
     "text": [
      "       accountid date_ref  waitingtime missed pesquisa_de_satisfa_o__c assunto\n",
      "1            NaN      NaN          NaN    NaN                      NaN     NaN\n",
      "2            NaN      NaN          NaN    NaN                      NaN     NaN\n",
      "3            NaN      NaN          NaN    NaN                      NaN     NaN\n",
      "11           NaN      NaN          NaN    NaN                      NaN     NaN\n",
      "12           NaN      NaN          NaN    NaN                      NaN     NaN\n",
      "...          ...      ...          ...    ...                      ...     ...\n",
      "126946       NaN      NaN          NaN    NaN                      NaN     NaN\n",
      "126960       NaN      NaN          NaN    NaN                      NaN     NaN\n",
      "126967       NaN      NaN          NaN    NaN                      NaN     NaN\n",
      "126973       NaN      NaN          NaN    NaN                      NaN     NaN\n",
      "126981       NaN      NaN          NaN    NaN                      NaN     NaN\n",
      "\n",
      "[49499 rows x 6 columns]\n"
     ]
    }
   ],
   "source": [
    "# Check for duplicate cases\n",
    "# It is only possible to check after deleting the Unnamed column, which artificially differentiates occurrences\n",
    "cases_duplicated = cases[cases.duplicated(keep='first')]\n",
    "print(cases_duplicated)"
   ]
  },
  {
   "cell_type": "markdown",
   "metadata": {},
   "source": [
    "Apparently there are rows where all columns are empty (*NaN*) - let's make sure:"
   ]
  },
  {
   "cell_type": "code",
   "execution_count": 18,
   "metadata": {},
   "outputs": [
    {
     "data": {
      "text/html": [
       "<div>\n",
       "<style scoped>\n",
       "    .dataframe tbody tr th:only-of-type {\n",
       "        vertical-align: middle;\n",
       "    }\n",
       "\n",
       "    .dataframe tbody tr th {\n",
       "        vertical-align: top;\n",
       "    }\n",
       "\n",
       "    .dataframe thead th {\n",
       "        text-align: right;\n",
       "    }\n",
       "</style>\n",
       "<table border=\"1\" class=\"dataframe\">\n",
       "  <thead>\n",
       "    <tr style=\"text-align: right;\">\n",
       "      <th></th>\n",
       "      <th>accountid</th>\n",
       "      <th>date_ref</th>\n",
       "      <th>waitingtime</th>\n",
       "      <th>missed</th>\n",
       "      <th>pesquisa_de_satisfa_o__c</th>\n",
       "      <th>assunto</th>\n",
       "    </tr>\n",
       "  </thead>\n",
       "  <tbody>\n",
       "    <tr>\n",
       "      <th>count</th>\n",
       "      <td>0</td>\n",
       "      <td>0</td>\n",
       "      <td>0.0</td>\n",
       "      <td>0</td>\n",
       "      <td>0</td>\n",
       "      <td>0</td>\n",
       "    </tr>\n",
       "    <tr>\n",
       "      <th>unique</th>\n",
       "      <td>0</td>\n",
       "      <td>0</td>\n",
       "      <td>NaN</td>\n",
       "      <td>0</td>\n",
       "      <td>0</td>\n",
       "      <td>0</td>\n",
       "    </tr>\n",
       "    <tr>\n",
       "      <th>top</th>\n",
       "      <td>NaN</td>\n",
       "      <td>NaN</td>\n",
       "      <td>NaN</td>\n",
       "      <td>NaN</td>\n",
       "      <td>NaN</td>\n",
       "      <td>NaN</td>\n",
       "    </tr>\n",
       "    <tr>\n",
       "      <th>freq</th>\n",
       "      <td>NaN</td>\n",
       "      <td>NaN</td>\n",
       "      <td>NaN</td>\n",
       "      <td>NaN</td>\n",
       "      <td>NaN</td>\n",
       "      <td>NaN</td>\n",
       "    </tr>\n",
       "    <tr>\n",
       "      <th>mean</th>\n",
       "      <td>NaN</td>\n",
       "      <td>NaN</td>\n",
       "      <td>NaN</td>\n",
       "      <td>NaN</td>\n",
       "      <td>NaN</td>\n",
       "      <td>NaN</td>\n",
       "    </tr>\n",
       "    <tr>\n",
       "      <th>std</th>\n",
       "      <td>NaN</td>\n",
       "      <td>NaN</td>\n",
       "      <td>NaN</td>\n",
       "      <td>NaN</td>\n",
       "      <td>NaN</td>\n",
       "      <td>NaN</td>\n",
       "    </tr>\n",
       "    <tr>\n",
       "      <th>min</th>\n",
       "      <td>NaN</td>\n",
       "      <td>NaN</td>\n",
       "      <td>NaN</td>\n",
       "      <td>NaN</td>\n",
       "      <td>NaN</td>\n",
       "      <td>NaN</td>\n",
       "    </tr>\n",
       "    <tr>\n",
       "      <th>25%</th>\n",
       "      <td>NaN</td>\n",
       "      <td>NaN</td>\n",
       "      <td>NaN</td>\n",
       "      <td>NaN</td>\n",
       "      <td>NaN</td>\n",
       "      <td>NaN</td>\n",
       "    </tr>\n",
       "    <tr>\n",
       "      <th>50%</th>\n",
       "      <td>NaN</td>\n",
       "      <td>NaN</td>\n",
       "      <td>NaN</td>\n",
       "      <td>NaN</td>\n",
       "      <td>NaN</td>\n",
       "      <td>NaN</td>\n",
       "    </tr>\n",
       "    <tr>\n",
       "      <th>75%</th>\n",
       "      <td>NaN</td>\n",
       "      <td>NaN</td>\n",
       "      <td>NaN</td>\n",
       "      <td>NaN</td>\n",
       "      <td>NaN</td>\n",
       "      <td>NaN</td>\n",
       "    </tr>\n",
       "    <tr>\n",
       "      <th>max</th>\n",
       "      <td>NaN</td>\n",
       "      <td>NaN</td>\n",
       "      <td>NaN</td>\n",
       "      <td>NaN</td>\n",
       "      <td>NaN</td>\n",
       "      <td>NaN</td>\n",
       "    </tr>\n",
       "  </tbody>\n",
       "</table>\n",
       "</div>"
      ],
      "text/plain": [
       "       accountid date_ref  waitingtime missed pesquisa_de_satisfa_o__c assunto\n",
       "count          0        0          0.0      0                        0       0\n",
       "unique         0        0          NaN      0                        0       0\n",
       "top          NaN      NaN          NaN    NaN                      NaN     NaN\n",
       "freq         NaN      NaN          NaN    NaN                      NaN     NaN\n",
       "mean         NaN      NaN          NaN    NaN                      NaN     NaN\n",
       "std          NaN      NaN          NaN    NaN                      NaN     NaN\n",
       "min          NaN      NaN          NaN    NaN                      NaN     NaN\n",
       "25%          NaN      NaN          NaN    NaN                      NaN     NaN\n",
       "50%          NaN      NaN          NaN    NaN                      NaN     NaN\n",
       "75%          NaN      NaN          NaN    NaN                      NaN     NaN\n",
       "max          NaN      NaN          NaN    NaN                      NaN     NaN"
      ]
     },
     "execution_count": 18,
     "metadata": {},
     "output_type": "execute_result"
    }
   ],
   "source": [
    "cases_duplicated.describe(include=\"all\")"
   ]
  },
  {
   "cell_type": "markdown",
   "metadata": {},
   "source": [
    "As noted, **there are no duplicate cases, but there are 49499 rows where there are no values (*NaN*) in all columns**"
   ]
  },
  {
   "cell_type": "markdown",
   "metadata": {},
   "source": [
    "I decided to **remove** those rows where all columns are empty - however I decided to **not to remove** the rows where only the *satisfy_the_c* column is empty, as the total df rows would be reduced from 77489 to 11585 , losing a lot of information about other important variables that may have their correlations studied, such as e.g. *Subject* vs. *Waiting time*."
   ]
  },
  {
   "cell_type": "code",
   "execution_count": 19,
   "metadata": {},
   "outputs": [
    {
     "data": {
      "text/plain": [
       "(126989, 6)"
      ]
     },
     "execution_count": 19,
     "metadata": {},
     "output_type": "execute_result"
    }
   ],
   "source": [
    "# Checking before how many lines the df has, even with null values\n",
    "cases.shape"
   ]
  },
  {
   "cell_type": "code",
   "execution_count": 20,
   "metadata": {},
   "outputs": [],
   "source": [
    "# Remove only rows where all columns ('all') have null values\n",
    "cases = cases.dropna(how='all')"
   ]
  },
  {
   "cell_type": "code",
   "execution_count": 21,
   "metadata": {},
   "outputs": [
    {
     "data": {
      "text/plain": [
       "(77489, 6)"
      ]
     },
     "execution_count": 21,
     "metadata": {},
     "output_type": "execute_result"
    }
   ],
   "source": [
    "# Checking the change\n",
    "cases.shape"
   ]
  },
  {
   "cell_type": "code",
   "execution_count": 22,
   "metadata": {},
   "outputs": [],
   "source": [
    "# Modify the title of the pesquisa_de_satisfa_o__c column, to facilitate analysis\n",
    "cases.rename(columns={'pesquisa_de_satisfa_o__c': 'pesquisa_sat'}, inplace=True)"
   ]
  },
  {
   "cell_type": "code",
   "execution_count": 23,
   "metadata": {},
   "outputs": [],
   "source": [
    "# Convert *date_ref* datatype to datetime64\n",
    "cases.date_ref = pd.to_datetime(cases.date_ref)"
   ]
  },
  {
   "cell_type": "code",
   "execution_count": 24,
   "metadata": {},
   "outputs": [],
   "source": [
    "# Replace null values for \"SemValor\" (NoValue) in *sat_search* column\n",
    "# To be able to convert all column values to categorical variables\n",
    "cases['pesquisa_sat'].fillna('SemValor', inplace= True)"
   ]
  },
  {
   "cell_type": "code",
   "execution_count": 25,
   "metadata": {},
   "outputs": [],
   "source": [
    "# Convert datatype from *pesquisa_sat* to categorical variable\n",
    "pesquisa_cat = cases['pesquisa_sat'].unique().tolist()\n",
    "cases['pesquisa_sat'] = pd.Categorical(cases['pesquisa_sat'], categories=pesquisa_cat, ordered=False)"
   ]
  },
  {
   "cell_type": "code",
   "execution_count": 26,
   "metadata": {},
   "outputs": [
    {
     "name": "stdout",
     "output_type": "stream",
     "text": [
      "<class 'pandas.core.frame.DataFrame'>\n",
      "Int64Index: 77489 entries, 4 to 126988\n",
      "Data columns (total 6 columns):\n",
      " #   Column        Non-Null Count  Dtype         \n",
      "---  ------        --------------  -----         \n",
      " 0   accountid     77489 non-null  object        \n",
      " 1   date_ref      77489 non-null  datetime64[ns]\n",
      " 2   waitingtime   77489 non-null  float64       \n",
      " 3   missed        77489 non-null  object        \n",
      " 4   pesquisa_sat  77489 non-null  category      \n",
      " 5   assunto       77489 non-null  object        \n",
      "dtypes: category(1), datetime64[ns](1), float64(1), object(3)\n",
      "memory usage: 3.6+ MB\n"
     ]
    }
   ],
   "source": [
    "cases.info()"
   ]
  },
  {
   "cell_type": "code",
   "execution_count": 27,
   "metadata": {},
   "outputs": [
    {
     "data": {
      "text/html": [
       "<div>\n",
       "<style scoped>\n",
       "    .dataframe tbody tr th:only-of-type {\n",
       "        vertical-align: middle;\n",
       "    }\n",
       "\n",
       "    .dataframe tbody tr th {\n",
       "        vertical-align: top;\n",
       "    }\n",
       "\n",
       "    .dataframe thead th {\n",
       "        text-align: right;\n",
       "    }\n",
       "</style>\n",
       "<table border=\"1\" class=\"dataframe\">\n",
       "  <thead>\n",
       "    <tr style=\"text-align: right;\">\n",
       "      <th></th>\n",
       "      <th>accountid</th>\n",
       "      <th>date_ref</th>\n",
       "      <th>waitingtime</th>\n",
       "      <th>missed</th>\n",
       "      <th>pesquisa_sat</th>\n",
       "      <th>assunto</th>\n",
       "    </tr>\n",
       "  </thead>\n",
       "  <tbody>\n",
       "    <tr>\n",
       "      <th>4</th>\n",
       "      <td>0013j00002z0CeEAAU</td>\n",
       "      <td>2020-07-31</td>\n",
       "      <td>15.0</td>\n",
       "      <td>False</td>\n",
       "      <td>SemValor</td>\n",
       "      <td>Aplicativo:Dúvidas funcionalidades App:Primeir...</td>\n",
       "    </tr>\n",
       "    <tr>\n",
       "      <th>5</th>\n",
       "      <td>0013j00002z0CeEAAU</td>\n",
       "      <td>2020-07-31</td>\n",
       "      <td>15.0</td>\n",
       "      <td>False</td>\n",
       "      <td>SemValor</td>\n",
       "      <td>Produto:S920:Ativação</td>\n",
       "    </tr>\n",
       "    <tr>\n",
       "      <th>6</th>\n",
       "      <td>0013j00002z0CeEAAU</td>\n",
       "      <td>2020-09-23</td>\n",
       "      <td>1.0</td>\n",
       "      <td>False</td>\n",
       "      <td>SemValor</td>\n",
       "      <td>Produto:Cartão pré-pago:Dúvidas</td>\n",
       "    </tr>\n",
       "    <tr>\n",
       "      <th>7</th>\n",
       "      <td>0013j00002zQgldAAC</td>\n",
       "      <td>2020-08-29</td>\n",
       "      <td>6.0</td>\n",
       "      <td>False</td>\n",
       "      <td>SemValor</td>\n",
       "      <td>Logística:Envio de Cartão:Tracking</td>\n",
       "    </tr>\n",
       "    <tr>\n",
       "      <th>8</th>\n",
       "      <td>0013j00002zQgldAAC</td>\n",
       "      <td>2020-08-29</td>\n",
       "      <td>6.0</td>\n",
       "      <td>False</td>\n",
       "      <td>SemValor</td>\n",
       "      <td>Pedido:Cancelamento:Outros</td>\n",
       "    </tr>\n",
       "  </tbody>\n",
       "</table>\n",
       "</div>"
      ],
      "text/plain": [
       "            accountid   date_ref  waitingtime missed pesquisa_sat  \\\n",
       "4  0013j00002z0CeEAAU 2020-07-31         15.0  False     SemValor   \n",
       "5  0013j00002z0CeEAAU 2020-07-31         15.0  False     SemValor   \n",
       "6  0013j00002z0CeEAAU 2020-09-23          1.0  False     SemValor   \n",
       "7  0013j00002zQgldAAC 2020-08-29          6.0  False     SemValor   \n",
       "8  0013j00002zQgldAAC 2020-08-29          6.0  False     SemValor   \n",
       "\n",
       "                                             assunto  \n",
       "4  Aplicativo:Dúvidas funcionalidades App:Primeir...  \n",
       "5                              Produto:S920:Ativação  \n",
       "6                    Produto:Cartão pré-pago:Dúvidas  \n",
       "7                 Logística:Envio de Cartão:Tracking  \n",
       "8                         Pedido:Cancelamento:Outros  "
      ]
     },
     "execution_count": 27,
     "metadata": {},
     "output_type": "execute_result"
    }
   ],
   "source": [
    "cases.head()"
   ]
  },
  {
   "cell_type": "markdown",
   "metadata": {},
   "source": [
    "# > Features extraction / selection"
   ]
  },
  {
   "cell_type": "code",
   "execution_count": 28,
   "metadata": {},
   "outputs": [
    {
     "data": {
      "text/html": [
       "<div>\n",
       "<style scoped>\n",
       "    .dataframe tbody tr th:only-of-type {\n",
       "        vertical-align: middle;\n",
       "    }\n",
       "\n",
       "    .dataframe tbody tr th {\n",
       "        vertical-align: top;\n",
       "    }\n",
       "\n",
       "    .dataframe thead th {\n",
       "        text-align: right;\n",
       "    }\n",
       "</style>\n",
       "<table border=\"1\" class=\"dataframe\">\n",
       "  <thead>\n",
       "    <tr style=\"text-align: right;\">\n",
       "      <th></th>\n",
       "      <th>accountid</th>\n",
       "      <th>date_ref</th>\n",
       "      <th>waitingtime</th>\n",
       "      <th>missed</th>\n",
       "      <th>pesquisa_sat</th>\n",
       "      <th>assunto</th>\n",
       "      <th>cred_date</th>\n",
       "      <th>shipping_address_city</th>\n",
       "      <th>shipping_address_state</th>\n",
       "      <th>max_machine</th>\n",
       "    </tr>\n",
       "  </thead>\n",
       "  <tbody>\n",
       "    <tr>\n",
       "      <th>4</th>\n",
       "      <td>0013j00002z0CeEAAU</td>\n",
       "      <td>2020-07-31</td>\n",
       "      <td>15.0</td>\n",
       "      <td>False</td>\n",
       "      <td>SemValor</td>\n",
       "      <td>Aplicativo:Dúvidas funcionalidades App:Primeir...</td>\n",
       "      <td>2020-07-28</td>\n",
       "      <td>São Gonçalo</td>\n",
       "      <td>RJ</td>\n",
       "      <td>T3</td>\n",
       "    </tr>\n",
       "    <tr>\n",
       "      <th>5</th>\n",
       "      <td>0013j00002z0CeEAAU</td>\n",
       "      <td>2020-07-31</td>\n",
       "      <td>15.0</td>\n",
       "      <td>False</td>\n",
       "      <td>SemValor</td>\n",
       "      <td>Produto:S920:Ativação</td>\n",
       "      <td>2020-07-28</td>\n",
       "      <td>São Gonçalo</td>\n",
       "      <td>RJ</td>\n",
       "      <td>T3</td>\n",
       "    </tr>\n",
       "    <tr>\n",
       "      <th>6</th>\n",
       "      <td>0013j00002z0CeEAAU</td>\n",
       "      <td>2020-09-23</td>\n",
       "      <td>1.0</td>\n",
       "      <td>False</td>\n",
       "      <td>SemValor</td>\n",
       "      <td>Produto:Cartão pré-pago:Dúvidas</td>\n",
       "      <td>2020-07-28</td>\n",
       "      <td>São Gonçalo</td>\n",
       "      <td>RJ</td>\n",
       "      <td>T3</td>\n",
       "    </tr>\n",
       "    <tr>\n",
       "      <th>7</th>\n",
       "      <td>0013j00002zQgldAAC</td>\n",
       "      <td>2020-08-29</td>\n",
       "      <td>6.0</td>\n",
       "      <td>False</td>\n",
       "      <td>SemValor</td>\n",
       "      <td>Logística:Envio de Cartão:Tracking</td>\n",
       "      <td>2020-08-28</td>\n",
       "      <td>Itaboraí</td>\n",
       "      <td>RJ</td>\n",
       "      <td>T1</td>\n",
       "    </tr>\n",
       "    <tr>\n",
       "      <th>8</th>\n",
       "      <td>0013j00002zQgldAAC</td>\n",
       "      <td>2020-08-29</td>\n",
       "      <td>6.0</td>\n",
       "      <td>False</td>\n",
       "      <td>SemValor</td>\n",
       "      <td>Pedido:Cancelamento:Outros</td>\n",
       "      <td>2020-08-28</td>\n",
       "      <td>Itaboraí</td>\n",
       "      <td>RJ</td>\n",
       "      <td>T1</td>\n",
       "    </tr>\n",
       "  </tbody>\n",
       "</table>\n",
       "</div>"
      ],
      "text/plain": [
       "            accountid   date_ref  waitingtime missed pesquisa_sat  \\\n",
       "4  0013j00002z0CeEAAU 2020-07-31         15.0  False     SemValor   \n",
       "5  0013j00002z0CeEAAU 2020-07-31         15.0  False     SemValor   \n",
       "6  0013j00002z0CeEAAU 2020-09-23          1.0  False     SemValor   \n",
       "7  0013j00002zQgldAAC 2020-08-29          6.0  False     SemValor   \n",
       "8  0013j00002zQgldAAC 2020-08-29          6.0  False     SemValor   \n",
       "\n",
       "                                             assunto  cred_date  \\\n",
       "4  Aplicativo:Dúvidas funcionalidades App:Primeir... 2020-07-28   \n",
       "5                              Produto:S920:Ativação 2020-07-28   \n",
       "6                    Produto:Cartão pré-pago:Dúvidas 2020-07-28   \n",
       "7                 Logística:Envio de Cartão:Tracking 2020-08-28   \n",
       "8                         Pedido:Cancelamento:Outros 2020-08-28   \n",
       "\n",
       "  shipping_address_city shipping_address_state max_machine  \n",
       "4           São Gonçalo                     RJ          T3  \n",
       "5           São Gonçalo                     RJ          T3  \n",
       "6           São Gonçalo                     RJ          T3  \n",
       "7              Itaboraí                     RJ          T1  \n",
       "8              Itaboraí                     RJ          T1  "
      ]
     },
     "execution_count": 28,
     "metadata": {},
     "output_type": "execute_result"
    }
   ],
   "source": [
    "# inner join of *creds* and *cases*\n",
    "df = cases.join(creds.set_index('accountid'), on='accountid')\n",
    "df.head()"
   ]
  },
  {
   "cell_type": "code",
   "execution_count": 29,
   "metadata": {},
   "outputs": [
    {
     "name": "stdout",
     "output_type": "stream",
     "text": [
      "<class 'pandas.core.frame.DataFrame'>\n",
      "Int64Index: 77489 entries, 4 to 126988\n",
      "Data columns (total 10 columns):\n",
      " #   Column                  Non-Null Count  Dtype         \n",
      "---  ------                  --------------  -----         \n",
      " 0   accountid               77489 non-null  object        \n",
      " 1   date_ref                77489 non-null  datetime64[ns]\n",
      " 2   waitingtime             77489 non-null  float64       \n",
      " 3   missed                  77489 non-null  object        \n",
      " 4   pesquisa_sat            77489 non-null  category      \n",
      " 5   assunto                 77489 non-null  object        \n",
      " 6   cred_date               77489 non-null  datetime64[ns]\n",
      " 7   shipping_address_city   77489 non-null  object        \n",
      " 8   shipping_address_state  77489 non-null  object        \n",
      " 9   max_machine             77489 non-null  object        \n",
      "dtypes: category(1), datetime64[ns](2), float64(1), object(6)\n",
      "memory usage: 6.0+ MB\n"
     ]
    }
   ],
   "source": [
    "df.info()"
   ]
  },
  {
   "cell_type": "markdown",
   "metadata": {},
   "source": [
    "To correlate with satisfaction surveys and to understand if all *date_ref* values come after *cred_date*: <br>\n",
    "Feature **tempo_de_casa** (in days)"
   ]
  },
  {
   "cell_type": "code",
   "execution_count": 30,
   "metadata": {},
   "outputs": [],
   "source": [
    "df['tempo_de_casa'] = ((df['date_ref'] - df['cred_date']) \n",
    "                               / (np.timedelta64(1, 'D')))"
   ]
  },
  {
   "cell_type": "markdown",
   "metadata": {},
   "source": [
    "Seeing if we can make the subject more succinct:"
   ]
  },
  {
   "cell_type": "code",
   "execution_count": 31,
   "metadata": {},
   "outputs": [
    {
     "data": {
      "text/plain": [
       "221"
      ]
     },
     "execution_count": 31,
     "metadata": {},
     "output_type": "execute_result"
    }
   ],
   "source": [
    "df['assunto'].nunique()"
   ]
  },
  {
   "cell_type": "markdown",
   "metadata": {},
   "source": [
    "There are many unique subjects (221), so I'll just leave the macro group for each subject:"
   ]
  },
  {
   "cell_type": "code",
   "execution_count": 32,
   "metadata": {},
   "outputs": [],
   "source": [
    "#split the subjects\n",
    "df['assunto_short'] = df['assunto'].str.rsplit(':').str[-3] \n",
    "df['assunto_short'].replace({\"\":\"Outros\"}, inplace=True)"
   ]
  },
  {
   "cell_type": "code",
   "execution_count": 33,
   "metadata": {},
   "outputs": [],
   "source": [
    "# rearranging df\n",
    "df = df[['accountid', 'cred_date', 'date_ref', 'tempo_de_casa', 'max_machine', 'assunto_short', 'waitingtime', 'pesquisa_sat']]"
   ]
  },
  {
   "cell_type": "code",
   "execution_count": 34,
   "metadata": {},
   "outputs": [
    {
     "name": "stdout",
     "output_type": "stream",
     "text": [
      "<class 'pandas.core.frame.DataFrame'>\n",
      "Int64Index: 77489 entries, 4 to 126988\n",
      "Data columns (total 8 columns):\n",
      " #   Column         Non-Null Count  Dtype         \n",
      "---  ------         --------------  -----         \n",
      " 0   accountid      77489 non-null  object        \n",
      " 1   cred_date      77489 non-null  datetime64[ns]\n",
      " 2   date_ref       77489 non-null  datetime64[ns]\n",
      " 3   tempo_de_casa  77489 non-null  float64       \n",
      " 4   max_machine    77489 non-null  object        \n",
      " 5   assunto_short  77489 non-null  object        \n",
      " 6   waitingtime    77489 non-null  float64       \n",
      " 7   pesquisa_sat   77489 non-null  category      \n",
      "dtypes: category(1), datetime64[ns](2), float64(2), object(3)\n",
      "memory usage: 4.8+ MB\n"
     ]
    }
   ],
   "source": [
    "df.info()"
   ]
  },
  {
   "cell_type": "code",
   "execution_count": 35,
   "metadata": {},
   "outputs": [
    {
     "data": {
      "text/html": [
       "<div>\n",
       "<style scoped>\n",
       "    .dataframe tbody tr th:only-of-type {\n",
       "        vertical-align: middle;\n",
       "    }\n",
       "\n",
       "    .dataframe tbody tr th {\n",
       "        vertical-align: top;\n",
       "    }\n",
       "\n",
       "    .dataframe thead th {\n",
       "        text-align: right;\n",
       "    }\n",
       "</style>\n",
       "<table border=\"1\" class=\"dataframe\">\n",
       "  <thead>\n",
       "    <tr style=\"text-align: right;\">\n",
       "      <th></th>\n",
       "      <th>accountid</th>\n",
       "      <th>cred_date</th>\n",
       "      <th>date_ref</th>\n",
       "      <th>tempo_de_casa</th>\n",
       "      <th>max_machine</th>\n",
       "      <th>assunto_short</th>\n",
       "      <th>waitingtime</th>\n",
       "      <th>pesquisa_sat</th>\n",
       "    </tr>\n",
       "  </thead>\n",
       "  <tbody>\n",
       "    <tr>\n",
       "      <th>4</th>\n",
       "      <td>0013j00002z0CeEAAU</td>\n",
       "      <td>2020-07-28</td>\n",
       "      <td>2020-07-31</td>\n",
       "      <td>3.0</td>\n",
       "      <td>T3</td>\n",
       "      <td>Aplicativo</td>\n",
       "      <td>15.0</td>\n",
       "      <td>SemValor</td>\n",
       "    </tr>\n",
       "    <tr>\n",
       "      <th>5</th>\n",
       "      <td>0013j00002z0CeEAAU</td>\n",
       "      <td>2020-07-28</td>\n",
       "      <td>2020-07-31</td>\n",
       "      <td>3.0</td>\n",
       "      <td>T3</td>\n",
       "      <td>Produto</td>\n",
       "      <td>15.0</td>\n",
       "      <td>SemValor</td>\n",
       "    </tr>\n",
       "    <tr>\n",
       "      <th>6</th>\n",
       "      <td>0013j00002z0CeEAAU</td>\n",
       "      <td>2020-07-28</td>\n",
       "      <td>2020-09-23</td>\n",
       "      <td>57.0</td>\n",
       "      <td>T3</td>\n",
       "      <td>Produto</td>\n",
       "      <td>1.0</td>\n",
       "      <td>SemValor</td>\n",
       "    </tr>\n",
       "    <tr>\n",
       "      <th>7</th>\n",
       "      <td>0013j00002zQgldAAC</td>\n",
       "      <td>2020-08-28</td>\n",
       "      <td>2020-08-29</td>\n",
       "      <td>1.0</td>\n",
       "      <td>T1</td>\n",
       "      <td>Logística</td>\n",
       "      <td>6.0</td>\n",
       "      <td>SemValor</td>\n",
       "    </tr>\n",
       "    <tr>\n",
       "      <th>8</th>\n",
       "      <td>0013j00002zQgldAAC</td>\n",
       "      <td>2020-08-28</td>\n",
       "      <td>2020-08-29</td>\n",
       "      <td>1.0</td>\n",
       "      <td>T1</td>\n",
       "      <td>Pedido</td>\n",
       "      <td>6.0</td>\n",
       "      <td>SemValor</td>\n",
       "    </tr>\n",
       "  </tbody>\n",
       "</table>\n",
       "</div>"
      ],
      "text/plain": [
       "            accountid  cred_date   date_ref  tempo_de_casa max_machine  \\\n",
       "4  0013j00002z0CeEAAU 2020-07-28 2020-07-31            3.0          T3   \n",
       "5  0013j00002z0CeEAAU 2020-07-28 2020-07-31            3.0          T3   \n",
       "6  0013j00002z0CeEAAU 2020-07-28 2020-09-23           57.0          T3   \n",
       "7  0013j00002zQgldAAC 2020-08-28 2020-08-29            1.0          T1   \n",
       "8  0013j00002zQgldAAC 2020-08-28 2020-08-29            1.0          T1   \n",
       "\n",
       "  assunto_short  waitingtime pesquisa_sat  \n",
       "4    Aplicativo         15.0     SemValor  \n",
       "5       Produto         15.0     SemValor  \n",
       "6       Produto          1.0     SemValor  \n",
       "7     Logística          6.0     SemValor  \n",
       "8        Pedido          6.0     SemValor  "
      ]
     },
     "execution_count": 35,
     "metadata": {},
     "output_type": "execute_result"
    }
   ],
   "source": [
    "df.head()"
   ]
  },
  {
   "cell_type": "markdown",
   "metadata": {},
   "source": [
    "To find out if there are negative *tempo_de_casa* values:"
   ]
  },
  {
   "cell_type": "code",
   "execution_count": 36,
   "metadata": {},
   "outputs": [
    {
     "data": {
      "text/plain": [
       "True"
      ]
     },
     "execution_count": 36,
     "metadata": {},
     "output_type": "execute_result"
    }
   ],
   "source": [
    "(df['tempo_de_casa'] < 0).any().any()"
   ]
  },
  {
   "cell_type": "markdown",
   "metadata": {},
   "source": [
    "There are negative values, let's see if the _subject_ helps to understand"
   ]
  },
  {
   "cell_type": "code",
   "execution_count": 37,
   "metadata": {},
   "outputs": [
    {
     "data": {
      "text/html": [
       "<div>\n",
       "<style scoped>\n",
       "    .dataframe tbody tr th:only-of-type {\n",
       "        vertical-align: middle;\n",
       "    }\n",
       "\n",
       "    .dataframe tbody tr th {\n",
       "        vertical-align: top;\n",
       "    }\n",
       "\n",
       "    .dataframe thead th {\n",
       "        text-align: right;\n",
       "    }\n",
       "</style>\n",
       "<table border=\"1\" class=\"dataframe\">\n",
       "  <thead>\n",
       "    <tr style=\"text-align: right;\">\n",
       "      <th></th>\n",
       "      <th>accountid</th>\n",
       "      <th>cred_date</th>\n",
       "      <th>date_ref</th>\n",
       "      <th>tempo_de_casa</th>\n",
       "      <th>max_machine</th>\n",
       "      <th>assunto_short</th>\n",
       "      <th>waitingtime</th>\n",
       "      <th>pesquisa_sat</th>\n",
       "    </tr>\n",
       "  </thead>\n",
       "  <tbody>\n",
       "    <tr>\n",
       "      <th>56</th>\n",
       "      <td>0013j00002zg2jKAAQ</td>\n",
       "      <td>2020-09-15</td>\n",
       "      <td>2020-09-14</td>\n",
       "      <td>-1.0</td>\n",
       "      <td>T2</td>\n",
       "      <td>Produto</td>\n",
       "      <td>8.0</td>\n",
       "      <td>SemValor</td>\n",
       "    </tr>\n",
       "    <tr>\n",
       "      <th>64</th>\n",
       "      <td>0013j00002u3av5AAA</td>\n",
       "      <td>2020-06-05</td>\n",
       "      <td>2020-06-03</td>\n",
       "      <td>-2.0</td>\n",
       "      <td>T1</td>\n",
       "      <td>Pedido</td>\n",
       "      <td>4.0</td>\n",
       "      <td>Enviado</td>\n",
       "    </tr>\n",
       "    <tr>\n",
       "      <th>149</th>\n",
       "      <td>0013j00002ttVPwAAM</td>\n",
       "      <td>2020-06-02</td>\n",
       "      <td>2020-06-01</td>\n",
       "      <td>-1.0</td>\n",
       "      <td>T3</td>\n",
       "      <td>Pedido</td>\n",
       "      <td>11.0</td>\n",
       "      <td>Enviado</td>\n",
       "    </tr>\n",
       "    <tr>\n",
       "      <th>199</th>\n",
       "      <td>0013j00002yzcmdAAA</td>\n",
       "      <td>2020-09-01</td>\n",
       "      <td>2020-08-31</td>\n",
       "      <td>-1.0</td>\n",
       "      <td>T1</td>\n",
       "      <td>Produto</td>\n",
       "      <td>7.0</td>\n",
       "      <td>SemValor</td>\n",
       "    </tr>\n",
       "    <tr>\n",
       "      <th>205</th>\n",
       "      <td>0013j000030E24pAAC</td>\n",
       "      <td>2020-10-27</td>\n",
       "      <td>2020-10-22</td>\n",
       "      <td>-5.0</td>\n",
       "      <td>T1</td>\n",
       "      <td>Logística</td>\n",
       "      <td>8.0</td>\n",
       "      <td>SemValor</td>\n",
       "    </tr>\n",
       "    <tr>\n",
       "      <th>216</th>\n",
       "      <td>0013j00002yeAHuAAM</td>\n",
       "      <td>2020-06-18</td>\n",
       "      <td>2020-06-17</td>\n",
       "      <td>-1.0</td>\n",
       "      <td>T1</td>\n",
       "      <td>Pedido</td>\n",
       "      <td>6.0</td>\n",
       "      <td>Enviado</td>\n",
       "    </tr>\n",
       "    <tr>\n",
       "      <th>414</th>\n",
       "      <td>0013j00002z0dSHAAY</td>\n",
       "      <td>2020-07-30</td>\n",
       "      <td>2020-07-29</td>\n",
       "      <td>-1.0</td>\n",
       "      <td>T2</td>\n",
       "      <td>Pedido</td>\n",
       "      <td>43.0</td>\n",
       "      <td>SemValor</td>\n",
       "    </tr>\n",
       "    <tr>\n",
       "      <th>459</th>\n",
       "      <td>0013j00002ttSLPAA2</td>\n",
       "      <td>2020-05-06</td>\n",
       "      <td>2020-05-05</td>\n",
       "      <td>-1.0</td>\n",
       "      <td>T1</td>\n",
       "      <td>Pedido</td>\n",
       "      <td>14.0</td>\n",
       "      <td>Enviado</td>\n",
       "    </tr>\n",
       "    <tr>\n",
       "      <th>498</th>\n",
       "      <td>0013j00002zgZX2AAM</td>\n",
       "      <td>2020-09-24</td>\n",
       "      <td>2020-09-20</td>\n",
       "      <td>-4.0</td>\n",
       "      <td>T1</td>\n",
       "      <td>Aplicativo</td>\n",
       "      <td>13.0</td>\n",
       "      <td>SemValor</td>\n",
       "    </tr>\n",
       "    <tr>\n",
       "      <th>565</th>\n",
       "      <td>0013j00002zQUj0AAG</td>\n",
       "      <td>2020-08-29</td>\n",
       "      <td>2020-08-28</td>\n",
       "      <td>-1.0</td>\n",
       "      <td>T1</td>\n",
       "      <td>Pedido</td>\n",
       "      <td>10.0</td>\n",
       "      <td>SemValor</td>\n",
       "    </tr>\n",
       "  </tbody>\n",
       "</table>\n",
       "</div>"
      ],
      "text/plain": [
       "              accountid  cred_date   date_ref  tempo_de_casa max_machine  \\\n",
       "56   0013j00002zg2jKAAQ 2020-09-15 2020-09-14           -1.0          T2   \n",
       "64   0013j00002u3av5AAA 2020-06-05 2020-06-03           -2.0          T1   \n",
       "149  0013j00002ttVPwAAM 2020-06-02 2020-06-01           -1.0          T3   \n",
       "199  0013j00002yzcmdAAA 2020-09-01 2020-08-31           -1.0          T1   \n",
       "205  0013j000030E24pAAC 2020-10-27 2020-10-22           -5.0          T1   \n",
       "216  0013j00002yeAHuAAM 2020-06-18 2020-06-17           -1.0          T1   \n",
       "414  0013j00002z0dSHAAY 2020-07-30 2020-07-29           -1.0          T2   \n",
       "459  0013j00002ttSLPAA2 2020-05-06 2020-05-05           -1.0          T1   \n",
       "498  0013j00002zgZX2AAM 2020-09-24 2020-09-20           -4.0          T1   \n",
       "565  0013j00002zQUj0AAG 2020-08-29 2020-08-28           -1.0          T1   \n",
       "\n",
       "    assunto_short  waitingtime pesquisa_sat  \n",
       "56        Produto          8.0     SemValor  \n",
       "64         Pedido          4.0      Enviado  \n",
       "149        Pedido         11.0      Enviado  \n",
       "199       Produto          7.0     SemValor  \n",
       "205     Logística          8.0     SemValor  \n",
       "216        Pedido          6.0      Enviado  \n",
       "414        Pedido         43.0     SemValor  \n",
       "459        Pedido         14.0      Enviado  \n",
       "498    Aplicativo         13.0     SemValor  \n",
       "565        Pedido         10.0     SemValor  "
      ]
     },
     "execution_count": 37,
     "metadata": {},
     "output_type": "execute_result"
    }
   ],
   "source": [
    "df_negatives = df.where(df['tempo_de_casa'] < 0) # separates only negative values and saves to df_negatives\n",
    "df_negatives = df_negatives.dropna(how='any',axis=0) # delete null tempo_de_casa\n",
    "df_negatives.head(10)"
   ]
  },
  {
   "cell_type": "markdown",
   "metadata": {},
   "source": [
    "There are negative values, which indicate that they are not just \"complaints\", but also initial contacts about the product, as we can see in the subject: Activation, Order Confirmation, etc."
   ]
  },
  {
   "cell_type": "markdown",
   "metadata": {},
   "source": [
    "**Saving the file for exploratory analysis**"
   ]
  },
  {
   "cell_type": "code",
   "execution_count": 38,
   "metadata": {},
   "outputs": [],
   "source": [
    "df.to_csv(\"df_cleaned.csv\", date_format='%Y-%m-%d', index=False)"
   ]
  }
 ],
 "metadata": {
  "kernelspec": {
   "display_name": "Python 3",
   "language": "python",
   "name": "python3"
  },
  "language_info": {
   "codemirror_mode": {
    "name": "ipython",
    "version": 3
   },
   "file_extension": ".py",
   "mimetype": "text/x-python",
   "name": "python",
   "nbconvert_exporter": "python",
   "pygments_lexer": "ipython3",
   "version": "3.8.5"
  }
 },
 "nbformat": 4,
 "nbformat_minor": 4
}
